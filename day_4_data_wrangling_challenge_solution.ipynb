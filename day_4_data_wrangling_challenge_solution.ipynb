{
 "cells": [
  {
   "cell_type": "markdown",
   "metadata": {},
   "source": [
    "# Data Wrangling Challenge\n",
    "### Pull and manipulate the API data\n",
    "\n",
    "The point of this exercise is to try data enrichment with data from external APIs. We are going to take data about car crashes in Monroe County, Indiana from 2003 to 2015 and try to figure out the weather during the accident and how many bars there are in the area. We will work with Following APIs during this challenge:\n",
    "\n",
    "- [Yelp](https://www.yelp.com/developers/documentation/v3/get_started) - to put the number of bars and restaurants in the area!\n",
    "- [World Weather Online API](https://www.worldweatheronline.com/developer/api/historical-weather-api.aspx) as **Stretch work**\n",
    "\n",
    "We will try to find correlations between the severity of crash and weather/number of bars in the area. To indicate the severity of a crash, we will use column `Injury Type`."
   ]
  },
  {
   "cell_type": "markdown",
   "metadata": {},
   "source": [
    "## Data\n",
    "\n",
    "The data for this exercise can be found [here](https://drive.google.com/file/d/1_KF9oIJV8cB8i3ngA4JPOLWIE_ETE6CJ/view?usp=sharing).\n",
    "\n",
    "Just run the cells below to get your data ready. Little help from us.\n"
   ]
  },
  {
   "cell_type": "code",
   "execution_count": null,
   "metadata": {},
   "outputs": [],
   "source": [
    "import pandas as pd\n",
    "import requests"
   ]
  },
  {
   "cell_type": "code",
   "execution_count": null,
   "metadata": {},
   "outputs": [],
   "source": [
    "data = pd.read_csv(\"data/monroe-county-crash-data2003-to-2015.csv\", encoding=\"unicode_escape\")\n",
    "# ========================\n",
    "# preparing data\n",
    "data.dropna(subset=['Latitude', 'Longitude'], inplace=True)\n",
    "# creation of variable with lon and lat together\n",
    "data['ll'] = data['Latitude'].astype(str) + ',' + data['Longitude'].astype(str)\n",
    "data = data[data['ll'] != '0.0,0.0']\n",
    "print(data.shape)\n",
    "data.head()"
   ]
  },
  {
   "cell_type": "code",
   "execution_count": null,
   "metadata": {},
   "outputs": [],
   "source": [
    "data['Injury Type'].value_counts()"
   ]
  },
  {
   "cell_type": "code",
   "execution_count": null,
   "metadata": {},
   "outputs": [],
   "source": [
    "data['severity'] = 0\n",
    "data.loc[data['Injury Type'] == 'Non-incapacitating', 'severity'] = 1\n",
    "data.loc[data['Injury Type'] == 'Incapacitating', 'severity'] = 2\n",
    "data.loc[data['Injury Type'] == 'Fatal', 'severity'] = 3"
   ]
  },
  {
   "cell_type": "code",
   "execution_count": null,
   "metadata": {},
   "outputs": [],
   "source": [
    "data['date'] = (data.Year.astype(str) + \n",
    "                \"-\" +\n",
    "                data.Month.astype(str).str.zfill(2) + \n",
    "                \"-\" +\n",
    "                data.Day.astype(str).str.zfill(2))"
   ]
  },
  {
   "cell_type": "code",
   "execution_count": null,
   "metadata": {},
   "outputs": [],
   "source": [
    "data.head()"
   ]
  },
  {
   "cell_type": "markdown",
   "metadata": {},
   "source": [
    "# Yelp API\n",
    "\n",
    "Yelp API documentation is [here](https://www.yelp.com/developers/documentation/v3/get_started)\n",
    "\n",
    "1. Get Your API Key\n",
    "2. For each crash, use endpoint `/businesses/search` to pull number of nightlife bar and other entertainments in the radius of 10km around the crash\n",
    "3. Find a relationship (if there is any) between number of bars in the area and severity of the crash.\n",
    "\n",
    "HINTs: \n",
    "- from the beginning, start pulling number of bars for smaller sample of crashes (500 or so) only\n",
    "- **list of categories** for bars and nightlife can to be found in the [Yelp API documentation](https://www.yelp.com/developers/documentation/v3/all_category_list)"
   ]
  },
  {
   "cell_type": "code",
   "execution_count": null,
   "metadata": {},
   "outputs": [],
   "source": [
    "#set the keys\n",
    "apikey = \"IAKwjSZkQHe6mX6ECDAS2AroHbxbjy3cnLOJ7CHdfuUAYC1_rZHoM_Q5IiE9CX1clRHALZD3fo27pvppu8jWAJObP8mk6gfr4m6sy_PHjZDLvDcHelZVJMLddM5eYXYx\"\n",
    "\n",
    "headers = {\n",
    "        'Authorization': f'Bearer {apikey}'\n",
    "    }"
   ]
  },
  {
   "cell_type": "code",
   "execution_count": null,
   "metadata": {},
   "outputs": [],
   "source": [
    "url_params = {\n",
    "        'term': '', # empty string to search all\n",
    "        'latitude': '40.7128',\n",
    "        'longitude': '74.0060',\n",
    "#         'term': 'restaurants',\n",
    "        'limit': 50, # we want to take first 50\n",
    "        'radius': 10000 # 1km radius\n",
    "}"
   ]
  },
  {
   "cell_type": "code",
   "execution_count": null,
   "metadata": {},
   "outputs": [],
   "source": [
    "url = 'https://api.yelp.com/v3/businesses/search'"
   ]
  },
  {
   "cell_type": "code",
   "execution_count": null,
   "metadata": {},
   "outputs": [],
   "source": [
    "resp = requests.get(url=url, headers = headers, params=url_params)\n",
    "res = resp.json()"
   ]
  },
  {
   "cell_type": "code",
   "execution_count": null,
   "metadata": {},
   "outputs": [],
   "source": [
    "# data"
   ]
  },
  {
   "cell_type": "code",
   "execution_count": null,
   "metadata": {},
   "outputs": [],
   "source": []
  },
  {
   "cell_type": "code",
   "execution_count": null,
   "metadata": {},
   "outputs": [],
   "source": [
    "test_data = data.head(1000)"
   ]
  },
  {
   "cell_type": "code",
   "execution_count": null,
   "metadata": {},
   "outputs": [],
   "source": [
    "lats = test_data.Latitude.tolist()\n",
    "lons = test_data.Longitude.tolist()"
   ]
  },
  {
   "cell_type": "code",
   "execution_count": null,
   "metadata": {},
   "outputs": [],
   "source": [
    "# # getting restauraYears in the neighborhood\n",
    "totals = []\n",
    "for i in range(len(lats)):\n",
    "# for i in range(5):\n",
    "    url_params = {\n",
    "            'latitude': str(lats[i]),\n",
    "            'longitude': str(lons[i]),\n",
    "            'categories': 'nightlife',\n",
    "            'radius': 1000\n",
    "        }\n",
    "\n",
    "    url = 'https://api.yelp.com/v3/businesses/search'\n",
    "\n",
    "    resp = requests.get(url=url, headers=headers, params=url_params)\n",
    "    res = resp.json()\n",
    "    totals.append(res['total'])"
   ]
  },
  {
   "cell_type": "code",
   "execution_count": null,
   "metadata": {},
   "outputs": [],
   "source": [
    "totals"
   ]
  },
  {
   "cell_type": "code",
   "execution_count": null,
   "metadata": {},
   "outputs": [],
   "source": [
    "test_data['no_bars'] = totals"
   ]
  },
  {
   "cell_type": "code",
   "execution_count": null,
   "metadata": {},
   "outputs": [],
   "source": [
    "test_data[['severity','no_bars']].corr()"
   ]
  },
  {
   "cell_type": "code",
   "execution_count": null,
   "metadata": {},
   "outputs": [],
   "source": []
  },
  {
   "cell_type": "markdown",
   "metadata": {},
   "source": [
    "# Stretch\n",
    "\n",
    "## World Weather Online API\n",
    "\n",
    "World Weather Online API is [here](https://www.worldweatheronline.com/developer/api/historical-weather-api.aspx)\n",
    "\n",
    "1. Sign up for FREE api key if you haven't done that before (it's free for **60 days**).\n",
    "2. For each crush, get the weather for the location and date.\n",
    "3. Find a relationship between the weather and severity of the crash.\n"
   ]
  },
  {
   "cell_type": "code",
   "execution_count": null,
   "metadata": {},
   "outputs": [],
   "source": [
    "import requests\n",
    "import time\n",
    "api_key = ''"
   ]
  },
  {
   "cell_type": "code",
   "execution_count": null,
   "metadata": {},
   "outputs": [],
   "source": []
  },
  {
   "cell_type": "code",
   "execution_count": null,
   "metadata": {},
   "outputs": [],
   "source": []
  },
  {
   "cell_type": "code",
   "execution_count": null,
   "metadata": {},
   "outputs": [],
   "source": [
    "import requests"
   ]
  },
  {
   "cell_type": "code",
   "execution_count": null,
   "metadata": {},
   "outputs": [],
   "source": [
    "data.head()"
   ]
  },
  {
   "cell_type": "code",
   "execution_count": null,
   "metadata": {},
   "outputs": [],
   "source": [
    "data[\"DATE_\"] = data.Year.astype(str) + '-' + data.Month.astype(str).str.zfill(2) + '-' + data.Day.astype(str).str.zfill(2)"
   ]
  },
  {
   "cell_type": "code",
   "execution_count": null,
   "metadata": {},
   "outputs": [],
   "source": [
    "data[\"DATE_\"][1]"
   ]
  },
  {
   "cell_type": "code",
   "execution_count": null,
   "metadata": {},
   "outputs": [],
   "source": [
    "# this sample URL is from the documentation here: https://www.worldweatheronline.com/developer/api/docs/historical-weather-api.aspx\n",
    "# api_key = os.environ['']\n",
    "api_key = ''\n",
    "date = data[\"DATE_\"][1]\n",
    "location = place\n",
    "url = f\"https://api.worldweatheronline.com/premium/v1/past-weather.ashx?q={location}&date={date}&format=json&key={api_key}\""
   ]
  },
  {
   "cell_type": "code",
   "execution_count": null,
   "metadata": {},
   "outputs": [],
   "source": [
    "res = requests.get(url)"
   ]
  },
  {
   "cell_type": "code",
   "execution_count": null,
   "metadata": {},
   "outputs": [],
   "source": [
    "# parse JSON in the result to get the values\n",
    "res = res.json()[\"data\"][\"weather\"][0]#.pop('hourly')\n",
    "hourly = res.pop('hourly')"
   ]
  },
  {
   "cell_type": "code",
   "execution_count": null,
   "metadata": {},
   "outputs": [],
   "source": [
    "# pd.DataFrame(res)"
   ]
  },
  {
   "cell_type": "code",
   "execution_count": null,
   "metadata": {},
   "outputs": [],
   "source": [
    "weather_results = []\n",
    "# trying only on 200 rows because of number of requests\n",
    "for index in data.head(200).index:\n",
    "    start_date = data[\"DATE_\"][index]\n",
    "    location = data[\"ll\"][index]\n",
    "    url = f\"https://api.worldweatheronline.com/premium/v1/past-weather.ashx?q={location}&date={start_date}&format=json&key={api_key}\"\n",
    "    res = requests.get(url)\n",
    "    res = res.json()[\"data\"][\"weather\"][0]\n",
    "    hourly = res.pop('hourly')\n",
    "    weather_results.append(res)"
   ]
  },
  {
   "cell_type": "code",
   "execution_count": null,
   "metadata": {},
   "outputs": [],
   "source": [
    "# weather_results[0]"
   ]
  },
  {
   "cell_type": "code",
   "execution_count": null,
   "metadata": {},
   "outputs": [],
   "source": [
    "df_weather = pd.DataFrame(weather_results)"
   ]
  },
  {
   "cell_type": "code",
   "execution_count": null,
   "metadata": {},
   "outputs": [],
   "source": [
    "df_weather.head()"
   ]
  },
  {
   "cell_type": "code",
   "execution_count": null,
   "metadata": {},
   "outputs": [],
   "source": [
    "df_weather.shape"
   ]
  },
  {
   "cell_type": "code",
   "execution_count": null,
   "metadata": {},
   "outputs": [],
   "source": [
    "data"
   ]
  },
  {
   "cell_type": "code",
   "execution_count": null,
   "metadata": {},
   "outputs": [],
   "source": [
    "# combining data together\n",
    "df_res = pd.concat([data.head(200), df_weather], axis=1)"
   ]
  },
  {
   "cell_type": "code",
   "execution_count": null,
   "metadata": {},
   "outputs": [],
   "source": [
    "df_res"
   ]
  },
  {
   "cell_type": "code",
   "execution_count": null,
   "metadata": {},
   "outputs": [],
   "source": [
    "df_res[\"severity\"] = 0\n",
    "df_res.loc[df_res[\"Injury Type\"] == 'Non-incapacitating',\"severity\"] = 1\n",
    "df_res.loc[df_res[\"Injury Type\"] == 'Incapacitating',\"severity\"] = 2\n",
    "df_res.loc[df_res[\"Injury Type\"] == 'Fatal',\"severity\"] = 3"
   ]
  },
  {
   "cell_type": "code",
   "execution_count": null,
   "metadata": {},
   "outputs": [],
   "source": [
    "# correlation between the weather and severity of car crash\n",
    "df_res[['maxtempC','mintempC', 'avgtempC','totalSnow_cm','sunHour','uvIndex', 'severity']].apply(pd.to_numeric).corr()"
   ]
  },
  {
   "cell_type": "code",
   "execution_count": null,
   "metadata": {},
   "outputs": [],
   "source": []
  },
  {
   "cell_type": "code",
   "execution_count": null,
   "metadata": {},
   "outputs": [],
   "source": []
  }
 ],
 "metadata": {
  "kernelspec": {
   "display_name": "Python 3",
   "language": "python",
   "name": "python3"
  },
  "language_info": {
   "codemirror_mode": {
    "name": "ipython",
    "version": 3
   },
   "file_extension": ".py",
   "mimetype": "text/x-python",
   "name": "python",
   "nbconvert_exporter": "python",
   "pygments_lexer": "ipython3",
   "version": "3.7.6"
  }
 },
 "nbformat": 4,
 "nbformat_minor": 4
}
