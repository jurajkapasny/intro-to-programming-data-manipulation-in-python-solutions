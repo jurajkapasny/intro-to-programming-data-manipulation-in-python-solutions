{
 "cells": [
  {
   "cell_type": "markdown",
   "metadata": {},
   "source": [
    "# Final Project\n",
    "\n",
    "Analysis of songs and artists from spotify that can be obtained from [Spotify's API](https://developer.spotify.com/documentation/web-api/). We can also use data **Archive.zip** that are in our repository."
   ]
  },
  {
   "cell_type": "code",
   "execution_count": null,
   "metadata": {},
   "outputs": [],
   "source": []
  },
  {
   "cell_type": "code",
   "execution_count": null,
   "metadata": {},
   "outputs": [],
   "source": [
    "import pandas as pd\n",
    "import numpy as np\n",
    "\n",
    "tracks = pd.read_csv(\"../intro-to-programming-data-manipulation-in-python/data/tracks.csv\")\n",
    "artists = pd.read_csv(\"../intro-to-programming-data-manipulation-in-python/data/artists.csv\")"
   ]
  },
  {
   "cell_type": "markdown",
   "metadata": {},
   "source": [
    "## Familiarize yourself with the datasets"
   ]
  },
  {
   "cell_type": "markdown",
   "metadata": {},
   "source": [
    "Some information about selected variables from the dataset tracks:\n",
    "- acousticness: The relative metric of the track being acoustic, (Ranges from 0 to 1)\n",
    "- danceability: The relative measurement of the track being danceable, (Ranges from 0 to 1)\n",
    "- energy: The energy of the track, (Ranges from 0 to 1)\n",
    "- duration_ms: The length of the track in milliseconds (ms), (Integer typically ranging from 200k to 300k)\n",
    "- instrumentalness:, The relative ratio of the track being instrumental, (Ranges from 0 to 1)\n",
    "- valence: The positiveness of the track, (Ranges from 0 to 1)\n",
    "- popularity: The popularity of the song lately, default country = US, (Ranges from 0 to 100)\n",
    "- tempo:The tempo of the track in Beat Per Minute (BPM), (Float typically ranging from 50 to 150)\n",
    "- liveness: The relative duration of the track sounding as a live performance, (Ranges from 0 to 1)\n",
    "- loudness: Relative loudness of the track in decibel (dB), (Float typically ranging from -60 to 0)\n",
    "- speechiness: The relative length of the track containing any kind of human voice, (Ranges from 0 to 1)\n",
    "- key: The primary key of the track encoded as integers in between 0 and 11 (starting on C as 0, C# as 1 and so on…)\n",
    "- artists: The list of artists credited for production of the track\n",
    "- release_date: Date of release mostly in yyyy-mm-dd format, however precision of date may vary\n",
    "- name: The title of the track\n",
    "- mode: The binary value representing whether the track starts with a major (1) chord progression or a minor (0)"
   ]
  },
  {
   "cell_type": "code",
   "execution_count": null,
   "metadata": {},
   "outputs": [],
   "source": [
    "# play around with the data sets here:"
   ]
  },
  {
   "cell_type": "code",
   "execution_count": null,
   "metadata": {},
   "outputs": [],
   "source": []
  },
  {
   "cell_type": "code",
   "execution_count": null,
   "metadata": {},
   "outputs": [],
   "source": []
  },
  {
   "cell_type": "code",
   "execution_count": null,
   "metadata": {},
   "outputs": [],
   "source": [
    "# import plotly graph objects\n",
    "import plotly.graph_objs as go\n",
    "import plotly.express as px\n",
    "\n",
    "# import pandas\n",
    "import pandas as pd"
   ]
  },
  {
   "cell_type": "code",
   "execution_count": null,
   "metadata": {},
   "outputs": [],
   "source": []
  },
  {
   "cell_type": "markdown",
   "metadata": {},
   "source": [
    "**Task**: Plot a line chart to see how different song metrics evolve in time:\n",
    "- per year\n",
    "- per decade\n",
    "\n",
    "Time should be on the **axis x** and metric on **y**"
   ]
  },
  {
   "cell_type": "code",
   "execution_count": null,
   "metadata": {},
   "outputs": [],
   "source": [
    "tracks.release_date = pd.to_datetime(tracks.release_date)\n",
    "tracks['year'] = tracks.release_date.dt.year\n",
    "tracks['decade'] = tracks['year'] // 10 * 10"
   ]
  },
  {
   "cell_type": "code",
   "execution_count": null,
   "metadata": {},
   "outputs": [],
   "source": []
  },
  {
   "cell_type": "markdown",
   "metadata": {},
   "source": [
    "#### Per Year"
   ]
  },
  {
   "cell_type": "code",
   "execution_count": null,
   "metadata": {},
   "outputs": [],
   "source": [
    "to_viz = tracks[['year','danceability','energy','loudness','speechiness','acousticness','instrumentalness',\n",
    "             'liveness','valence','tempo']].groupby('year').mean()"
   ]
  },
  {
   "cell_type": "code",
   "execution_count": null,
   "metadata": {},
   "outputs": [],
   "source": [
    "# Create traces\n",
    "fig = go.Figure()\n",
    "fig.add_trace(go.Scatter(x=to_viz.index, y=to_viz['danceability'],\n",
    "                    mode='lines',\n",
    "                    name='danceability'))\n",
    "fig.add_trace(go.Scatter(x=to_viz.index, y=to_viz['energy'],\n",
    "                    mode='lines',\n",
    "                    name='energy'))\n",
    "fig.add_trace(go.Scatter(x=to_viz.index, y=to_viz['acousticness'],\n",
    "                    mode='lines',\n",
    "                    name='acousticness'))\n",
    "fig.add_trace(go.Scatter(x=to_viz.index, y=to_viz['speechiness'],\n",
    "                    mode='lines',\n",
    "                    name='speechiness'))\n",
    "fig.add_trace(go.Scatter(x=to_viz.index, y=to_viz['liveness'],\n",
    "                    mode='lines',\n",
    "                    name='liveness'))\n",
    "fig.add_trace(go.Scatter(x=to_viz.index, y=to_viz['valence'],\n",
    "                    mode='lines',\n",
    "                    name='valence'))\n",
    "fig.show()"
   ]
  },
  {
   "cell_type": "code",
   "execution_count": null,
   "metadata": {},
   "outputs": [],
   "source": [
    "# Create traces\n",
    "fig = go.Figure()\n",
    "fig.add_trace(go.Scatter(x=to_viz.index, y=to_viz['tempo'],\n",
    "                    mode='lines',\n",
    "                    name='tempo'))\n",
    "fig.show()"
   ]
  },
  {
   "cell_type": "code",
   "execution_count": null,
   "metadata": {},
   "outputs": [],
   "source": []
  },
  {
   "cell_type": "markdown",
   "metadata": {},
   "source": [
    "#### Per Decade"
   ]
  },
  {
   "cell_type": "code",
   "execution_count": null,
   "metadata": {},
   "outputs": [],
   "source": [
    "to_viz = tracks[['decade','danceability','energy','loudness','speechiness','acousticness','instrumentalness',\n",
    "             'liveness','valence','tempo']].groupby('decade').mean()"
   ]
  },
  {
   "cell_type": "code",
   "execution_count": null,
   "metadata": {},
   "outputs": [],
   "source": [
    "# Create traces\n",
    "fig = go.Figure()\n",
    "fig.add_trace(go.Scatter(x=to_viz.index, y=to_viz['danceability'],\n",
    "                    mode='lines',\n",
    "                    name='danceability'))\n",
    "fig.add_trace(go.Scatter(x=to_viz.index, y=to_viz['energy'],\n",
    "                    mode='lines',\n",
    "                    name='energy'))\n",
    "fig.add_trace(go.Scatter(x=to_viz.index, y=to_viz['acousticness'],\n",
    "                    mode='lines',\n",
    "                    name='acousticness'))\n",
    "fig.add_trace(go.Scatter(x=to_viz.index, y=to_viz['speechiness'],\n",
    "                    mode='lines',\n",
    "                    name='speechiness'))\n",
    "fig.add_trace(go.Scatter(x=to_viz.index, y=to_viz['liveness'],\n",
    "                    mode='lines',\n",
    "                    name='liveness'))\n",
    "fig.add_trace(go.Scatter(x=to_viz.index, y=to_viz['valence'],\n",
    "                    mode='lines',\n",
    "                    name='valence'))\n",
    "fig.show()"
   ]
  },
  {
   "cell_type": "code",
   "execution_count": null,
   "metadata": {},
   "outputs": [],
   "source": []
  },
  {
   "cell_type": "code",
   "execution_count": null,
   "metadata": {},
   "outputs": [],
   "source": []
  },
  {
   "cell_type": "markdown",
   "metadata": {},
   "source": [
    "**Task**: Visualize how music genres change in time. [(visualization from lecture)](https://plotly.com/python/filled-area-plots/#stacked-area-chart-with-normalized-values)\n",
    "- per year\n",
    "\n"
   ]
  },
  {
   "cell_type": "code",
   "execution_count": null,
   "metadata": {},
   "outputs": [],
   "source": [
    "# vycistim artists stlpec v tracks dataset-e\n",
    "tracks_one_artist_per_row = tracks.copy(deep=True)\n",
    "tracks_one_artist_per_row['artists'] = tracks_one_artist_per_row['artists'].apply(lambda v: v.replace(\"['\",'').replace(\"']\",'').split(','))\n",
    "tracks_one_artist_per_row = tracks_one_artist_per_row.explode('artists')"
   ]
  },
  {
   "cell_type": "code",
   "execution_count": null,
   "metadata": {},
   "outputs": [],
   "source": [
    "tracks_one_artist_per_row.head()"
   ]
  },
  {
   "cell_type": "code",
   "execution_count": null,
   "metadata": {},
   "outputs": [],
   "source": [
    "tracks_with_genres = (tracks_one_artist_per_row[['artists','name','year']]\n",
    "                      .merge(artists[[\"name\",'genres']],\n",
    "                            left_on = 'artists',\n",
    "                            right_on = 'name'))"
   ]
  },
  {
   "cell_type": "code",
   "execution_count": null,
   "metadata": {},
   "outputs": [],
   "source": [
    "# vycistim genres stlpec von z listu\n",
    "tracks_with_genres['genres'] = tracks_with_genres['genres'].apply(lambda v: v.replace(\"['\",'').replace(\"']\",'').split(','))\n",
    "tracks_with_genres = tracks_with_genres.explode('genres')\n",
    "tracks_with_genres['clean_genres'] = tracks_with_genres['genres'].str.replace(\"'\",'')"
   ]
  },
  {
   "cell_type": "code",
   "execution_count": null,
   "metadata": {},
   "outputs": [],
   "source": [
    "tracks_with_genres.tail()"
   ]
  },
  {
   "cell_type": "code",
   "execution_count": null,
   "metadata": {},
   "outputs": [],
   "source": [
    "tracks_with_genres.tail()"
   ]
  },
  {
   "cell_type": "code",
   "execution_count": null,
   "metadata": {},
   "outputs": [],
   "source": [
    "tracks_with_genres['grouped_genres'] = tracks_with_genres['clean_genres'].copy()\n",
    "tracks_with_genres = tracks_with_genres[tracks_with_genres.clean_genres != '[]']\n",
    "tracks_with_genres.loc[tracks_with_genres['clean_genres'].str.contains('rock'), 'grouped_genres'] = 'rock'\n",
    "tracks_with_genres.loc[tracks_with_genres['clean_genres'].str.contains('pop'), 'grouped_genres'] = 'pop'\n",
    "tracks_with_genres.loc[tracks_with_genres['clean_genres'].str.contains('hip hop'), 'grouped_genres'] = 'hip hop'\n",
    "tracks_with_genres.loc[tracks_with_genres['clean_genres'].str.contains('jazz'), 'grouped_genres'] = 'jazz'\n",
    "tracks_with_genres.loc[tracks_with_genres['clean_genres'].str.contains('children'), 'grouped_genres'] = 'children'\n",
    "tracks_with_genres.loc[tracks_with_genres['clean_genres'].str.contains('punk'), 'grouped_genres'] = 'punk'\n",
    "tracks_with_genres.loc[tracks_with_genres['clean_genres'].str.contains('metal'), 'grouped_genres'] = 'metal'"
   ]
  },
  {
   "cell_type": "code",
   "execution_count": null,
   "metadata": {},
   "outputs": [],
   "source": [
    "tracks_with_genres.loc[tracks_with_genres['clean_genres'].str.contains('soul'), 'grouped_genres'] = 'soul'"
   ]
  },
  {
   "cell_type": "code",
   "execution_count": null,
   "metadata": {},
   "outputs": [],
   "source": [
    "# take top 10 genres\n",
    "tracks_with_genres.grouped_genres.value_counts().head(10)"
   ]
  },
  {
   "cell_type": "code",
   "execution_count": null,
   "metadata": {},
   "outputs": [],
   "source": [
    "to_viz = tracks_with_genres[['year','grouped_genres']].groupby(['year','grouped_genres']).size().unstack().fillna(0)"
   ]
  },
  {
   "cell_type": "code",
   "execution_count": null,
   "metadata": {},
   "outputs": [],
   "source": [
    "to_viz.head()"
   ]
  },
  {
   "cell_type": "code",
   "execution_count": null,
   "metadata": {},
   "outputs": [],
   "source": []
  },
  {
   "cell_type": "code",
   "execution_count": null,
   "metadata": {},
   "outputs": [],
   "source": [
    "import plotly.graph_objects as go\n",
    "\n",
    "x=to_viz.index.tolist()\n",
    "\n",
    "fig = go.Figure()\n",
    "fig.add_trace(go.Scatter(\n",
    "    x=x, y=to_viz['rock'],\n",
    "    hoverinfo='x+y',\n",
    "    mode='lines',\n",
    "    line=dict(width=0.5),\n",
    "    stackgroup='one', # define stack group\n",
    "    groupnorm='percent',\n",
    "    name='rock'\n",
    "))\n",
    "fig.add_trace(go.Scatter(\n",
    "    x=x, y=to_viz['jazz'],\n",
    "    hoverinfo='x+y',\n",
    "    mode='lines',\n",
    "    line=dict(width=0.5),\n",
    "    stackgroup='one',\n",
    "    name='jazz'\n",
    "))\n",
    "fig.add_trace(go.Scatter(\n",
    "    x=x, y=to_viz['pop'],\n",
    "    hoverinfo='x+y',\n",
    "    mode='lines',\n",
    "    line=dict(width=0.5),\n",
    "    stackgroup='one',\n",
    "    name='pop'\n",
    "))\n",
    "fig.add_trace(go.Scatter(\n",
    "    x=x, y=to_viz['metal'],\n",
    "    hoverinfo='x+y',\n",
    "    mode='lines',\n",
    "    line=dict(width=0.5),\n",
    "    stackgroup='one',\n",
    "    name='metal'\n",
    "))\n",
    "fig.add_trace(go.Scatter(\n",
    "    x=x, y=to_viz['soul'],\n",
    "    hoverinfo='x+y',\n",
    "    mode='lines',\n",
    "    line=dict(width=0.5),\n",
    "    stackgroup='one',\n",
    "    name='soul'\n",
    "))\n",
    "fig.add_trace(go.Scatter(\n",
    "    x=x, y=to_viz['punk'],\n",
    "    hoverinfo='x+y',\n",
    "    mode='lines',\n",
    "    line=dict(width=0.5),\n",
    "    stackgroup='one',\n",
    "    name='punk'\n",
    "))\n",
    "fig.add_trace(go.Scatter(\n",
    "    x=x, y=to_viz['hip hop'],\n",
    "    hoverinfo='x+y',\n",
    "    mode='lines',\n",
    "    line=dict(width=0.5),\n",
    "    stackgroup='one',\n",
    "    name='hip hop'\n",
    "))\n",
    "\n",
    "fig.update_layout(yaxis_range=(0, 100))\n",
    "fig.show()"
   ]
  },
  {
   "cell_type": "code",
   "execution_count": null,
   "metadata": {},
   "outputs": [],
   "source": []
  },
  {
   "cell_type": "markdown",
   "metadata": {},
   "source": [
    "## Use Pandas and Data Visualization Libraries to extract following information from the data?"
   ]
  },
  {
   "cell_type": "markdown",
   "metadata": {},
   "source": [
    "**Question 1:** In order to write a popular song, is the key and mode of the song important?"
   ]
  },
  {
   "cell_type": "markdown",
   "metadata": {},
   "source": [
    "- mode: The binary value representing whether the track starts with a major (1) chord progression or a minor (0)\n",
    "- key: The primary key of the track encoded as integers in between 0 and 11 (starting on C as 0, C# as 1 and so on…)"
   ]
  },
  {
   "cell_type": "code",
   "execution_count": null,
   "metadata": {},
   "outputs": [],
   "source": [
    "mode_popularity = tracks.groupby(['mode']).mean()['popularity']"
   ]
  },
  {
   "cell_type": "code",
   "execution_count": null,
   "metadata": {},
   "outputs": [],
   "source": [
    "# doesn't look like there is significant difference between mode 0 and 1 in terms of popularity\n",
    "mode_popularity.plot(kind='bar')"
   ]
  },
  {
   "cell_type": "code",
   "execution_count": null,
   "metadata": {},
   "outputs": [],
   "source": [
    "key_popularity = tracks.groupby(['key']).mean()['popularity']"
   ]
  },
  {
   "cell_type": "code",
   "execution_count": null,
   "metadata": {},
   "outputs": [],
   "source": [
    "# key=3 looks to have the worst popularity\n",
    "key_popularity.plot(kind='bar')"
   ]
  },
  {
   "cell_type": "code",
   "execution_count": null,
   "metadata": {},
   "outputs": [],
   "source": []
  },
  {
   "cell_type": "code",
   "execution_count": null,
   "metadata": {},
   "outputs": [],
   "source": []
  },
  {
   "cell_type": "markdown",
   "metadata": {},
   "source": [
    "**Question 2:** 1955-1960: The popularity level climbs up - Who are the most famous artists at this time?"
   ]
  },
  {
   "cell_type": "code",
   "execution_count": null,
   "metadata": {},
   "outputs": [],
   "source": [
    "# artists for the most populat tracks between 1955-1960\n",
    "data_late50s_topArtists = (tracks[(tracks['year'] >= 1955) & (tracks['year'] <= 1960)]\n",
    "                           .sort_values(by='popularity', ascending=False))\n",
    "# clean artists from list\n",
    "data_late50s_topArtists.loc[:,'artist'] = data_late50s_topArtists['artists'].map(lambda x: x.replace('[', '').replace(']', '').replace('\\'', ''))\n",
    "data_late50s_topArtists[['artist','popularity']].head(10)"
   ]
  },
  {
   "cell_type": "code",
   "execution_count": null,
   "metadata": {},
   "outputs": [],
   "source": []
  },
  {
   "cell_type": "markdown",
   "metadata": {},
   "source": [
    "**Question 3:** Which actual top artists write/have the most popular songs?"
   ]
  },
  {
   "cell_type": "code",
   "execution_count": null,
   "metadata": {},
   "outputs": [],
   "source": [
    "# As a second order popularity condition, artists must have more than 200 songs on Spotify\n",
    "data_topArtists = tracks.sort_values(by='popularity', ascending=False)\n",
    "\n",
    "# extract list of artists who have more than 200 songs\n",
    "top_artists = data_topArtists['artists'].value_counts()[data_topArtists['artists'].value_counts() > 200].index.tolist()\n",
    "\n",
    "# take only topArtists who have at least 200 songs\n",
    "data_topArtists = data_topArtists[data_topArtists['artists'].isin(top_artists)]\n",
    "\n",
    "# extract artists\n",
    "data_topArtists.loc[:,'artist'] = data_topArtists['artists'].map(lambda x: x.replace('[', '').replace(']', '').replace('\\'', ''))\n",
    "\n",
    "data_topArtists[['artist','popularity']].groupby('artist').mean().sort_values('popularity',ascending=False).head(10)"
   ]
  },
  {
   "cell_type": "code",
   "execution_count": null,
   "metadata": {},
   "outputs": [],
   "source": []
  },
  {
   "cell_type": "markdown",
   "metadata": {},
   "source": [
    "**Question 4:** How do you become a famous song writer?\n",
    "- what genres do you sing?\n",
    "- is your music fast/energetic?\n",
    "- ...."
   ]
  },
  {
   "cell_type": "code",
   "execution_count": null,
   "metadata": {},
   "outputs": [],
   "source": [
    "# famous = lot of followers"
   ]
  },
  {
   "cell_type": "code",
   "execution_count": null,
   "metadata": {},
   "outputs": [],
   "source": [
    "most_famous_artists = artists.sort_values('followers', ascending=False).head(10)\n",
    "most_famous_artists"
   ]
  },
  {
   "cell_type": "code",
   "execution_count": null,
   "metadata": {},
   "outputs": [],
   "source": [
    "# vycistim artists stlpec v tracks dataset-e\n",
    "most_famous_artists['genres'] = most_famous_artists['genres'].apply(lambda v: v.replace(\"['\",'').replace(\"']\",'').split(','))\n",
    "most_famous_artists = most_famous_artists.explode('genres')\n",
    "most_famous_artists['clean_genres'] = most_famous_artists['genres'].str.replace(\"'\",'')"
   ]
  },
  {
   "cell_type": "code",
   "execution_count": null,
   "metadata": {},
   "outputs": [],
   "source": [
    "# the most famous artists sing post-teen pop!! \n",
    "most_famous_artists.clean_genres.value_counts()"
   ]
  },
  {
   "cell_type": "code",
   "execution_count": null,
   "metadata": {},
   "outputs": [],
   "source": [
    "# mena najpopularnejsich \n",
    "most_famous_artists_list = most_famous_artists['name'].tolist()"
   ]
  },
  {
   "cell_type": "code",
   "execution_count": null,
   "metadata": {},
   "outputs": [],
   "source": []
  },
  {
   "cell_type": "code",
   "execution_count": null,
   "metadata": {},
   "outputs": [],
   "source": [
    "# vycistim artists stlpec v tracks dataset-e\n",
    "tracks['artists'] = tracks['artists'].apply(lambda v: v.replace(\"['\",'').replace(\"']\",'').split(','))\n",
    "tracks = tracks.explode('artists')"
   ]
  },
  {
   "cell_type": "code",
   "execution_count": null,
   "metadata": {},
   "outputs": [],
   "source": [
    "tracks.head()"
   ]
  },
  {
   "cell_type": "code",
   "execution_count": null,
   "metadata": {},
   "outputs": [],
   "source": [
    "tracks_famous_artists = tracks[tracks['artists'].isin(most_famous_artists_list)]"
   ]
  },
  {
   "cell_type": "code",
   "execution_count": null,
   "metadata": {},
   "outputs": [],
   "source": [
    "tracks_famous_artists[['artists','danceability','energy','loudness','speechiness','acousticness','instrumentalness',\n",
    "             'liveness','valence','tempo']].groupby('artists').mean()"
   ]
  },
  {
   "cell_type": "code",
   "execution_count": null,
   "metadata": {},
   "outputs": [],
   "source": []
  },
  {
   "cell_type": "markdown",
   "metadata": {},
   "source": [
    "**Question 5:** What are those songs with high popularity but zero tempo, zero danceability and zero speechiness?"
   ]
  },
  {
   "cell_type": "code",
   "execution_count": null,
   "metadata": {},
   "outputs": [],
   "source": [
    "# Find some examples (most popular ones) of zero tempo songs\n",
    "data_zero_tempo = tracks[tracks['tempo'] ==0].sort_values(by='popularity', ascending=False)\n",
    "print(f'# of songs with 0 bpm: {str(data_zero_tempo.shape[0])}')\n",
    "data_zero_tempo[['name', 'artists', 'year', 'tempo', 'speechiness', 'danceability', 'popularity']].head(10)"
   ]
  },
  {
   "cell_type": "code",
   "execution_count": null,
   "metadata": {},
   "outputs": [],
   "source": []
  },
  {
   "cell_type": "code",
   "execution_count": null,
   "metadata": {},
   "outputs": [],
   "source": []
  }
 ],
 "metadata": {
  "kernelspec": {
   "display_name": "Python 3",
   "language": "python",
   "name": "python3"
  },
  "language_info": {
   "codemirror_mode": {
    "name": "ipython",
    "version": 3
   },
   "file_extension": ".py",
   "mimetype": "text/x-python",
   "name": "python",
   "nbconvert_exporter": "python",
   "pygments_lexer": "ipython3",
   "version": "3.7.6"
  }
 },
 "nbformat": 4,
 "nbformat_minor": 4
}
