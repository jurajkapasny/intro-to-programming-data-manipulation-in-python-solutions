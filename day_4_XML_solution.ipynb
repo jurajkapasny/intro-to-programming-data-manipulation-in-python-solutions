{
 "cells": [
  {
   "cell_type": "markdown",
   "metadata": {},
   "source": [
    "## XML exercise\n",
    "\n",
    "\n",
    "1. 10 countries with the lowest infant mortality rates\n",
    "2. 10 cities with the largest population\n",
    "3. name and country of a) longest river, b) largest lake and c) airport at highest elevation"
   ]
  },
  {
   "cell_type": "code",
   "execution_count": 7,
   "metadata": {},
   "outputs": [],
   "source": [
    "import pandas as pd\n",
    "import xmltodict\n",
    "# open a file and convert to a dictionary\n",
    "with open(\"./data/mondial.xml\") as xml_file:\n",
    "    data_dict = xmltodict.parse(xml_file.read())"
   ]
  },
  {
   "cell_type": "code",
   "execution_count": 8,
   "metadata": {},
   "outputs": [],
   "source": [
    "data_xml = data_dict['mondial']"
   ]
  },
  {
   "cell_type": "code",
   "execution_count": 10,
   "metadata": {},
   "outputs": [],
   "source": [
    "df = pd.json_normalize(data_xml)"
   ]
  },
  {
   "cell_type": "code",
   "execution_count": 11,
   "metadata": {},
   "outputs": [
    {
     "data": {
      "text/html": [
       "<div>\n",
       "<style scoped>\n",
       "    .dataframe tbody tr th:only-of-type {\n",
       "        vertical-align: middle;\n",
       "    }\n",
       "\n",
       "    .dataframe tbody tr th {\n",
       "        vertical-align: top;\n",
       "    }\n",
       "\n",
       "    .dataframe thead th {\n",
       "        text-align: right;\n",
       "    }\n",
       "</style>\n",
       "<table border=\"1\" class=\"dataframe\">\n",
       "  <thead>\n",
       "    <tr style=\"text-align: right;\">\n",
       "      <th></th>\n",
       "      <th>country</th>\n",
       "      <th>continent</th>\n",
       "      <th>organization</th>\n",
       "      <th>sea</th>\n",
       "      <th>river</th>\n",
       "      <th>lake</th>\n",
       "      <th>island</th>\n",
       "      <th>mountain</th>\n",
       "      <th>desert</th>\n",
       "      <th>airport</th>\n",
       "    </tr>\n",
       "  </thead>\n",
       "  <tbody>\n",
       "    <tr>\n",
       "      <th>0</th>\n",
       "      <td>[{'@car_code': 'AL', '@area': '28750', '@capit...</td>\n",
       "      <td>[{'@id': 'europe', 'name': 'Europe', 'area': '...</td>\n",
       "      <td>[{'@id': 'org-AfDB', '@headq': 'cty-CI-2', 'na...</td>\n",
       "      <td>[{'@id': 'sea-Atlantic', '@country': 'F E GBZ ...</td>\n",
       "      <td>[{'@id': 'river-Thjorsa', '@country': 'IS', 'n...</td>\n",
       "      <td>[{'@id': 'lake-Inarisee', '@country': 'SF', 'n...</td>\n",
       "      <td>[{'@id': 'island-Svalbard', '@country': 'SVAX'...</td>\n",
       "      <td>[{'@id': 'mount-GunnbjornFjeld', '@country': '...</td>\n",
       "      <td>[{'@id': 'desert-Kalahari', '@country': 'NAM R...</td>\n",
       "      <td>[{'@iatacode': 'HEA', '@city': 'cty-Afghanista...</td>\n",
       "    </tr>\n",
       "  </tbody>\n",
       "</table>\n",
       "</div>"
      ],
      "text/plain": [
       "                                             country  \\\n",
       "0  [{'@car_code': 'AL', '@area': '28750', '@capit...   \n",
       "\n",
       "                                           continent  \\\n",
       "0  [{'@id': 'europe', 'name': 'Europe', 'area': '...   \n",
       "\n",
       "                                        organization  \\\n",
       "0  [{'@id': 'org-AfDB', '@headq': 'cty-CI-2', 'na...   \n",
       "\n",
       "                                                 sea  \\\n",
       "0  [{'@id': 'sea-Atlantic', '@country': 'F E GBZ ...   \n",
       "\n",
       "                                               river  \\\n",
       "0  [{'@id': 'river-Thjorsa', '@country': 'IS', 'n...   \n",
       "\n",
       "                                                lake  \\\n",
       "0  [{'@id': 'lake-Inarisee', '@country': 'SF', 'n...   \n",
       "\n",
       "                                              island  \\\n",
       "0  [{'@id': 'island-Svalbard', '@country': 'SVAX'...   \n",
       "\n",
       "                                            mountain  \\\n",
       "0  [{'@id': 'mount-GunnbjornFjeld', '@country': '...   \n",
       "\n",
       "                                              desert  \\\n",
       "0  [{'@id': 'desert-Kalahari', '@country': 'NAM R...   \n",
       "\n",
       "                                             airport  \n",
       "0  [{'@iatacode': 'HEA', '@city': 'cty-Afghanista...  "
      ]
     },
     "execution_count": 11,
     "metadata": {},
     "output_type": "execute_result"
    }
   ],
   "source": [
    "df.head()"
   ]
  },
  {
   "cell_type": "markdown",
   "metadata": {},
   "source": [
    "## 1"
   ]
  },
  {
   "cell_type": "code",
   "execution_count": 15,
   "metadata": {},
   "outputs": [
    {
     "data": {
      "text/html": [
       "<div>\n",
       "<style scoped>\n",
       "    .dataframe tbody tr th:only-of-type {\n",
       "        vertical-align: middle;\n",
       "    }\n",
       "\n",
       "    .dataframe tbody tr th {\n",
       "        vertical-align: top;\n",
       "    }\n",
       "\n",
       "    .dataframe thead th {\n",
       "        text-align: right;\n",
       "    }\n",
       "</style>\n",
       "<table border=\"1\" class=\"dataframe\">\n",
       "  <thead>\n",
       "    <tr style=\"text-align: right;\">\n",
       "      <th></th>\n",
       "      <th>name</th>\n",
       "      <th>infant_mortality</th>\n",
       "    </tr>\n",
       "  </thead>\n",
       "  <tbody>\n",
       "    <tr>\n",
       "      <th>38</th>\n",
       "      <td>Monaco</td>\n",
       "      <td>1.81</td>\n",
       "    </tr>\n",
       "    <tr>\n",
       "      <th>30</th>\n",
       "      <td>Romania</td>\n",
       "      <td>10.16</td>\n",
       "    </tr>\n",
       "    <tr>\n",
       "      <th>153</th>\n",
       "      <td>Fiji</td>\n",
       "      <td>10.2</td>\n",
       "    </tr>\n",
       "    <tr>\n",
       "      <th>69</th>\n",
       "      <td>Brunei</td>\n",
       "      <td>10.48</td>\n",
       "    </tr>\n",
       "    <tr>\n",
       "      <th>132</th>\n",
       "      <td>Grenada</td>\n",
       "      <td>10.5</td>\n",
       "    </tr>\n",
       "    <tr>\n",
       "      <th>237</th>\n",
       "      <td>Mauritius</td>\n",
       "      <td>10.59</td>\n",
       "    </tr>\n",
       "    <tr>\n",
       "      <th>124</th>\n",
       "      <td>Panama</td>\n",
       "      <td>10.7</td>\n",
       "    </tr>\n",
       "    <tr>\n",
       "      <th>243</th>\n",
       "      <td>Seychelles</td>\n",
       "      <td>10.77</td>\n",
       "    </tr>\n",
       "    <tr>\n",
       "      <th>102</th>\n",
       "      <td>United Arab Emirates</td>\n",
       "      <td>10.92</td>\n",
       "    </tr>\n",
       "    <tr>\n",
       "      <th>113</th>\n",
       "      <td>Barbados</td>\n",
       "      <td>10.93</td>\n",
       "    </tr>\n",
       "  </tbody>\n",
       "</table>\n",
       "</div>"
      ],
      "text/plain": [
       "                     name infant_mortality\n",
       "38                 Monaco             1.81\n",
       "30                Romania            10.16\n",
       "153                  Fiji             10.2\n",
       "69                 Brunei            10.48\n",
       "132               Grenada             10.5\n",
       "237             Mauritius            10.59\n",
       "124                Panama             10.7\n",
       "243            Seychelles            10.77\n",
       "102  United Arab Emirates            10.92\n",
       "113              Barbados            10.93"
      ]
     },
     "execution_count": 15,
     "metadata": {},
     "output_type": "execute_result"
    }
   ],
   "source": [
    "pd.json_normalize(data_xml, record_path = ['country'])[['name','infant_mortality']].sort_values('infant_mortality').head(10)"
   ]
  },
  {
   "cell_type": "markdown",
   "metadata": {},
   "source": [
    "## 2"
   ]
  },
  {
   "cell_type": "code",
   "execution_count": null,
   "metadata": {},
   "outputs": [],
   "source": []
  },
  {
   "cell_type": "code",
   "execution_count": 233,
   "metadata": {},
   "outputs": [],
   "source": [
    "# firstly, we need to extract provices\n",
    "provinces = pd.json_normalize(data_xml['country'])[['name','province']]\n",
    "provinces = provinces[provinces.province.notnull()]"
   ]
  },
  {
   "cell_type": "code",
   "execution_count": 234,
   "metadata": {},
   "outputs": [],
   "source": [
    "# from provinces, we extract cities\n",
    "cities = pd.json_normalize(provinces[['province']].to_dict(orient='records'), record_path = 'province')\n",
    "cities = cities[cities.city.notnull()][['population','city']]"
   ]
  },
  {
   "cell_type": "code",
   "execution_count": 235,
   "metadata": {},
   "outputs": [
    {
     "data": {
      "text/html": [
       "<div>\n",
       "<style scoped>\n",
       "    .dataframe tbody tr th:only-of-type {\n",
       "        vertical-align: middle;\n",
       "    }\n",
       "\n",
       "    .dataframe tbody tr th {\n",
       "        vertical-align: top;\n",
       "    }\n",
       "\n",
       "    .dataframe thead th {\n",
       "        text-align: right;\n",
       "    }\n",
       "</style>\n",
       "<table border=\"1\" class=\"dataframe\">\n",
       "  <thead>\n",
       "    <tr style=\"text-align: right;\">\n",
       "      <th></th>\n",
       "      <th>population</th>\n",
       "      <th>city</th>\n",
       "    </tr>\n",
       "  </thead>\n",
       "  <tbody>\n",
       "    <tr>\n",
       "      <th>0</th>\n",
       "      <td>[{'@measured': 'census', '@year': '1991', '#te...</td>\n",
       "      <td>[{'@id': 'cty-Greece-Komotini', '@country': 'G...</td>\n",
       "    </tr>\n",
       "    <tr>\n",
       "      <th>1</th>\n",
       "      <td>[{'@measured': 'census', '@year': '1991', '#te...</td>\n",
       "      <td>[{'@id': 'cty-Greece-Athens', '@country': 'GR'...</td>\n",
       "    </tr>\n",
       "    <tr>\n",
       "      <th>7</th>\n",
       "      <td>[{'@measured': 'census', '@year': '1991', '#te...</td>\n",
       "      <td>[{'@id': 'cty-Greece-7', '@country': 'GR', '@p...</td>\n",
       "    </tr>\n",
       "    <tr>\n",
       "      <th>8</th>\n",
       "      <td>[{'@measured': 'census', '@year': '1991', '#te...</td>\n",
       "      <td>[{'@id': 'cty-Greece-Ermoupoli', '@country': '...</td>\n",
       "    </tr>\n",
       "    <tr>\n",
       "      <th>10</th>\n",
       "      <td>[{'@measured': 'census', '@year': '1991', '#te...</td>\n",
       "      <td>[{'@id': 'cty-Greece-Lamia', '@country': 'GR',...</td>\n",
       "    </tr>\n",
       "  </tbody>\n",
       "</table>\n",
       "</div>"
      ],
      "text/plain": [
       "                                           population  \\\n",
       "0   [{'@measured': 'census', '@year': '1991', '#te...   \n",
       "1   [{'@measured': 'census', '@year': '1991', '#te...   \n",
       "7   [{'@measured': 'census', '@year': '1991', '#te...   \n",
       "8   [{'@measured': 'census', '@year': '1991', '#te...   \n",
       "10  [{'@measured': 'census', '@year': '1991', '#te...   \n",
       "\n",
       "                                                 city  \n",
       "0   [{'@id': 'cty-Greece-Komotini', '@country': 'G...  \n",
       "1   [{'@id': 'cty-Greece-Athens', '@country': 'GR'...  \n",
       "7   [{'@id': 'cty-Greece-7', '@country': 'GR', '@p...  \n",
       "8   [{'@id': 'cty-Greece-Ermoupoli', '@country': '...  \n",
       "10  [{'@id': 'cty-Greece-Lamia', '@country': 'GR',...  "
      ]
     },
     "execution_count": 235,
     "metadata": {},
     "output_type": "execute_result"
    }
   ],
   "source": [
    "cities.head()"
   ]
  },
  {
   "cell_type": "code",
   "execution_count": 236,
   "metadata": {},
   "outputs": [
    {
     "data": {
      "text/html": [
       "<div>\n",
       "<style scoped>\n",
       "    .dataframe tbody tr th:only-of-type {\n",
       "        vertical-align: middle;\n",
       "    }\n",
       "\n",
       "    .dataframe tbody tr th {\n",
       "        vertical-align: top;\n",
       "    }\n",
       "\n",
       "    .dataframe thead th {\n",
       "        text-align: right;\n",
       "    }\n",
       "</style>\n",
       "<table border=\"1\" class=\"dataframe\">\n",
       "  <thead>\n",
       "    <tr style=\"text-align: right;\">\n",
       "      <th></th>\n",
       "      <th>name</th>\n",
       "      <th>population</th>\n",
       "    </tr>\n",
       "  </thead>\n",
       "  <tbody>\n",
       "    <tr>\n",
       "      <th>1986</th>\n",
       "      <td>M'Bour</td>\n",
       "      <td>[{'@year': '2002', '@measured': 'census', '#te...</td>\n",
       "    </tr>\n",
       "    <tr>\n",
       "      <th>1987</th>\n",
       "      <td>Kampala</td>\n",
       "      <td>[{'@year': '1991', '@measured': 'census', '#te...</td>\n",
       "    </tr>\n",
       "    <tr>\n",
       "      <th>1988</th>\n",
       "      <td>Mukono</td>\n",
       "      <td>[{'@year': '1969', '@measured': 'census', '#te...</td>\n",
       "    </tr>\n",
       "    <tr>\n",
       "      <th>1989</th>\n",
       "      <td>[Nacala Porto, Nacala]</td>\n",
       "      <td>[{'@year': '1991', '#text': '125208'}, {'@year...</td>\n",
       "    </tr>\n",
       "    <tr>\n",
       "      <th>1990</th>\n",
       "      <td>Matola</td>\n",
       "      <td>[{'@year': '1991', '#text': '337239'}, {'@year...</td>\n",
       "    </tr>\n",
       "  </tbody>\n",
       "</table>\n",
       "</div>"
      ],
      "text/plain": [
       "                        name  \\\n",
       "1986                  M'Bour   \n",
       "1987                 Kampala   \n",
       "1988                  Mukono   \n",
       "1989  [Nacala Porto, Nacala]   \n",
       "1990                  Matola   \n",
       "\n",
       "                                             population  \n",
       "1986  [{'@year': '2002', '@measured': 'census', '#te...  \n",
       "1987  [{'@year': '1991', '@measured': 'census', '#te...  \n",
       "1988  [{'@year': '1969', '@measured': 'census', '#te...  \n",
       "1989  [{'@year': '1991', '#text': '125208'}, {'@year...  \n",
       "1990  [{'@year': '1991', '#text': '337239'}, {'@year...  "
      ]
     },
     "execution_count": 236,
     "metadata": {},
     "output_type": "execute_result"
    }
   ],
   "source": [
    "# now we need to extract populations for each city\n",
    "populations = pd.json_normalize(cities.to_dict(orient='records'), record_path = ['city'])[['name','population']]\n",
    "populations.tail()"
   ]
  },
  {
   "cell_type": "code",
   "execution_count": 230,
   "metadata": {},
   "outputs": [],
   "source": [
    "# we convert cities and their populations back to dict (json) so we can call json_normalize on it again\n",
    "all_populations = pd.json_normalize(populations.to_dict(orient='records'), record_path = 'population', meta = 'name')\n",
    "all_populations[\"@year\"] = all_populations[\"@year\"].astype(int)\n",
    "all_populations[\"#text\"] = all_populations[\"#text\"].astype(int)\n",
    "all_populations[\"name\"] = all_populations[\"name\"].astype(str)"
   ]
  },
  {
   "cell_type": "code",
   "execution_count": 231,
   "metadata": {},
   "outputs": [
    {
     "data": {
      "text/html": [
       "<div>\n",
       "<style scoped>\n",
       "    .dataframe tbody tr th:only-of-type {\n",
       "        vertical-align: middle;\n",
       "    }\n",
       "\n",
       "    .dataframe tbody tr th {\n",
       "        vertical-align: top;\n",
       "    }\n",
       "\n",
       "    .dataframe thead th {\n",
       "        text-align: right;\n",
       "    }\n",
       "</style>\n",
       "<table border=\"1\" class=\"dataframe\">\n",
       "  <thead>\n",
       "    <tr style=\"text-align: right;\">\n",
       "      <th></th>\n",
       "      <th>@year</th>\n",
       "      <th>#text</th>\n",
       "      <th>@measured</th>\n",
       "      <th>name</th>\n",
       "    </tr>\n",
       "  </thead>\n",
       "  <tbody>\n",
       "    <tr>\n",
       "      <th>0</th>\n",
       "      <td>1981</td>\n",
       "      <td>56705</td>\n",
       "      <td>NaN</td>\n",
       "      <td>Kavala</td>\n",
       "    </tr>\n",
       "    <tr>\n",
       "      <th>1</th>\n",
       "      <td>1991</td>\n",
       "      <td>60187</td>\n",
       "      <td>census</td>\n",
       "      <td>Kavala</td>\n",
       "    </tr>\n",
       "    <tr>\n",
       "      <th>2</th>\n",
       "      <td>2001</td>\n",
       "      <td>63774</td>\n",
       "      <td>census</td>\n",
       "      <td>Kavala</td>\n",
       "    </tr>\n",
       "    <tr>\n",
       "      <th>3</th>\n",
       "      <td>2011</td>\n",
       "      <td>58790</td>\n",
       "      <td>census</td>\n",
       "      <td>Kavala</td>\n",
       "    </tr>\n",
       "    <tr>\n",
       "      <th>4</th>\n",
       "      <td>1981</td>\n",
       "      <td>885737</td>\n",
       "      <td>NaN</td>\n",
       "      <td>['Athina', 'Athens']</td>\n",
       "    </tr>\n",
       "  </tbody>\n",
       "</table>\n",
       "</div>"
      ],
      "text/plain": [
       "   @year   #text @measured                  name\n",
       "0   1981   56705       NaN                Kavala\n",
       "1   1991   60187    census                Kavala\n",
       "2   2001   63774    census                Kavala\n",
       "3   2011   58790    census                Kavala\n",
       "4   1981  885737       NaN  ['Athina', 'Athens']"
      ]
     },
     "execution_count": 231,
     "metadata": {},
     "output_type": "execute_result"
    }
   ],
   "source": [
    "all_populations.head()"
   ]
  },
  {
   "cell_type": "code",
   "execution_count": 232,
   "metadata": {},
   "outputs": [
    {
     "data": {
      "text/html": [
       "<div>\n",
       "<style scoped>\n",
       "    .dataframe tbody tr th:only-of-type {\n",
       "        vertical-align: middle;\n",
       "    }\n",
       "\n",
       "    .dataframe tbody tr th {\n",
       "        vertical-align: top;\n",
       "    }\n",
       "\n",
       "    .dataframe thead th {\n",
       "        text-align: right;\n",
       "    }\n",
       "</style>\n",
       "<table border=\"1\" class=\"dataframe\">\n",
       "  <thead>\n",
       "    <tr style=\"text-align: right;\">\n",
       "      <th></th>\n",
       "      <th>@year</th>\n",
       "      <th>#text</th>\n",
       "      <th>@measured</th>\n",
       "      <th>name</th>\n",
       "    </tr>\n",
       "  </thead>\n",
       "  <tbody>\n",
       "    <tr>\n",
       "      <th>2601</th>\n",
       "      <td>2017</td>\n",
       "      <td>14916456</td>\n",
       "      <td>census</td>\n",
       "      <td>['Karachi', 'Karāchi']</td>\n",
       "    </tr>\n",
       "    <tr>\n",
       "      <th>5835</th>\n",
       "      <td>2016</td>\n",
       "      <td>13745000</td>\n",
       "      <td>projection</td>\n",
       "      <td>Lagos</td>\n",
       "    </tr>\n",
       "    <tr>\n",
       "      <th>2714</th>\n",
       "      <td>2011</td>\n",
       "      <td>12442373</td>\n",
       "      <td>census</td>\n",
       "      <td>Mumbai</td>\n",
       "    </tr>\n",
       "    <tr>\n",
       "      <th>5410</th>\n",
       "      <td>2010</td>\n",
       "      <td>11152344</td>\n",
       "      <td>census</td>\n",
       "      <td>São Paulo</td>\n",
       "    </tr>\n",
       "    <tr>\n",
       "      <th>2517</th>\n",
       "      <td>2017</td>\n",
       "      <td>11126285</td>\n",
       "      <td>census</td>\n",
       "      <td>Lahore</td>\n",
       "    </tr>\n",
       "    <tr>\n",
       "      <th>2176</th>\n",
       "      <td>2010</td>\n",
       "      <td>11071424</td>\n",
       "      <td>census</td>\n",
       "      <td>Guangzhou</td>\n",
       "    </tr>\n",
       "    <tr>\n",
       "      <th>2183</th>\n",
       "      <td>2010</td>\n",
       "      <td>10358381</td>\n",
       "      <td>census</td>\n",
       "      <td>Shenzhen</td>\n",
       "    </tr>\n",
       "    <tr>\n",
       "      <th>2219</th>\n",
       "      <td>2010</td>\n",
       "      <td>9785388</td>\n",
       "      <td>census</td>\n",
       "      <td>Wuhan</td>\n",
       "    </tr>\n",
       "    <tr>\n",
       "      <th>2470</th>\n",
       "      <td>2016</td>\n",
       "      <td>8693706</td>\n",
       "      <td>census</td>\n",
       "      <td>Tehran</td>\n",
       "    </tr>\n",
       "    <tr>\n",
       "      <th>3062</th>\n",
       "      <td>2012</td>\n",
       "      <td>8591695</td>\n",
       "      <td>estimate</td>\n",
       "      <td>Tokyo</td>\n",
       "    </tr>\n",
       "  </tbody>\n",
       "</table>\n",
       "</div>"
      ],
      "text/plain": [
       "      @year     #text   @measured                    name\n",
       "2601   2017  14916456      census  ['Karachi', 'Karāchi']\n",
       "5835   2016  13745000  projection                   Lagos\n",
       "2714   2011  12442373      census                  Mumbai\n",
       "5410   2010  11152344      census               São Paulo\n",
       "2517   2017  11126285      census                  Lahore\n",
       "2176   2010  11071424      census               Guangzhou\n",
       "2183   2010  10358381      census                Shenzhen\n",
       "2219   2010   9785388      census                   Wuhan\n",
       "2470   2016   8693706      census                  Tehran\n",
       "3062   2012   8591695    estimate                   Tokyo"
      ]
     },
     "execution_count": 232,
     "metadata": {},
     "output_type": "execute_result"
    }
   ],
   "source": [
    "# dataframe populations is sorted by city name and year, \n",
    "# so we can simply get rid of duplicate cities and take the last value\n",
    "all_populations.drop_duplicates(subset=['name'], keep='last').sort_values(\"#text\", ascending=False).head(10)"
   ]
  },
  {
   "cell_type": "code",
   "execution_count": null,
   "metadata": {},
   "outputs": [],
   "source": []
  },
  {
   "cell_type": "markdown",
   "metadata": {},
   "source": [
    "## 3"
   ]
  },
  {
   "cell_type": "code",
   "execution_count": 78,
   "metadata": {},
   "outputs": [],
   "source": [
    "rivers = pd.json_normalize(data_xml, record_path = ['river'])[['name','length','@country']]"
   ]
  },
  {
   "cell_type": "code",
   "execution_count": 80,
   "metadata": {},
   "outputs": [],
   "source": [
    "rivers.length = rivers.length.astype(float)"
   ]
  },
  {
   "cell_type": "code",
   "execution_count": 82,
   "metadata": {},
   "outputs": [
    {
     "data": {
      "text/html": [
       "<div>\n",
       "<style scoped>\n",
       "    .dataframe tbody tr th:only-of-type {\n",
       "        vertical-align: middle;\n",
       "    }\n",
       "\n",
       "    .dataframe tbody tr th {\n",
       "        vertical-align: top;\n",
       "    }\n",
       "\n",
       "    .dataframe thead th {\n",
       "        text-align: right;\n",
       "    }\n",
       "</style>\n",
       "<table border=\"1\" class=\"dataframe\">\n",
       "  <thead>\n",
       "    <tr style=\"text-align: right;\">\n",
       "      <th></th>\n",
       "      <th>name</th>\n",
       "      <th>length</th>\n",
       "      <th>@country</th>\n",
       "    </tr>\n",
       "  </thead>\n",
       "  <tbody>\n",
       "    <tr>\n",
       "      <th>214</th>\n",
       "      <td>Yangtze</td>\n",
       "      <td>6380.0</td>\n",
       "      <td>CN</td>\n",
       "    </tr>\n",
       "  </tbody>\n",
       "</table>\n",
       "</div>"
      ],
      "text/plain": [
       "        name  length @country\n",
       "214  Yangtze  6380.0       CN"
      ]
     },
     "execution_count": 82,
     "metadata": {},
     "output_type": "execute_result"
    }
   ],
   "source": [
    "rivers.sort_values('length', ascending=False).head(1)"
   ]
  },
  {
   "cell_type": "code",
   "execution_count": 85,
   "metadata": {},
   "outputs": [],
   "source": [
    "lakes = pd.json_normalize(data_xml, record_path = ['lake'])[['name','area','@country']]"
   ]
  },
  {
   "cell_type": "code",
   "execution_count": 86,
   "metadata": {},
   "outputs": [],
   "source": [
    "lakes.area = lakes.area.astype(float)"
   ]
  },
  {
   "cell_type": "code",
   "execution_count": 87,
   "metadata": {},
   "outputs": [
    {
     "data": {
      "text/html": [
       "<div>\n",
       "<style scoped>\n",
       "    .dataframe tbody tr th:only-of-type {\n",
       "        vertical-align: middle;\n",
       "    }\n",
       "\n",
       "    .dataframe tbody tr th {\n",
       "        vertical-align: top;\n",
       "    }\n",
       "\n",
       "    .dataframe thead th {\n",
       "        text-align: right;\n",
       "    }\n",
       "</style>\n",
       "<table border=\"1\" class=\"dataframe\">\n",
       "  <thead>\n",
       "    <tr style=\"text-align: right;\">\n",
       "      <th></th>\n",
       "      <th>name</th>\n",
       "      <th>area</th>\n",
       "      <th>@country</th>\n",
       "    </tr>\n",
       "  </thead>\n",
       "  <tbody>\n",
       "    <tr>\n",
       "      <th>59</th>\n",
       "      <td>Caspian Sea</td>\n",
       "      <td>386400.0</td>\n",
       "      <td>R AZ KAZ IR TM</td>\n",
       "    </tr>\n",
       "  </tbody>\n",
       "</table>\n",
       "</div>"
      ],
      "text/plain": [
       "           name      area        @country\n",
       "59  Caspian Sea  386400.0  R AZ KAZ IR TM"
      ]
     },
     "execution_count": 87,
     "metadata": {},
     "output_type": "execute_result"
    }
   ],
   "source": [
    "lakes.sort_values('area', ascending=False).head(1)"
   ]
  },
  {
   "cell_type": "code",
   "execution_count": 91,
   "metadata": {},
   "outputs": [],
   "source": [
    "airports = pd.json_normalize(data_xml, record_path = ['airport'])[['name','elevation','@country']]"
   ]
  },
  {
   "cell_type": "code",
   "execution_count": 92,
   "metadata": {},
   "outputs": [],
   "source": [
    "airports.elevation = airports.elevation.astype(float)"
   ]
  },
  {
   "cell_type": "code",
   "execution_count": 93,
   "metadata": {},
   "outputs": [
    {
     "data": {
      "text/html": [
       "<div>\n",
       "<style scoped>\n",
       "    .dataframe tbody tr th:only-of-type {\n",
       "        vertical-align: middle;\n",
       "    }\n",
       "\n",
       "    .dataframe tbody tr th {\n",
       "        vertical-align: top;\n",
       "    }\n",
       "\n",
       "    .dataframe thead th {\n",
       "        text-align: right;\n",
       "    }\n",
       "</style>\n",
       "<table border=\"1\" class=\"dataframe\">\n",
       "  <thead>\n",
       "    <tr style=\"text-align: right;\">\n",
       "      <th></th>\n",
       "      <th>name</th>\n",
       "      <th>elevation</th>\n",
       "      <th>@country</th>\n",
       "    </tr>\n",
       "  </thead>\n",
       "  <tbody>\n",
       "    <tr>\n",
       "      <th>81</th>\n",
       "      <td>El Alto Intl</td>\n",
       "      <td>4063.0</td>\n",
       "      <td>BOL</td>\n",
       "    </tr>\n",
       "  </tbody>\n",
       "</table>\n",
       "</div>"
      ],
      "text/plain": [
       "            name  elevation @country\n",
       "81  El Alto Intl     4063.0      BOL"
      ]
     },
     "execution_count": 93,
     "metadata": {},
     "output_type": "execute_result"
    }
   ],
   "source": [
    "airports.sort_values('elevation', ascending=False).head(1)"
   ]
  },
  {
   "cell_type": "code",
   "execution_count": null,
   "metadata": {},
   "outputs": [],
   "source": []
  }
 ],
 "metadata": {
  "anaconda-cloud": {},
  "kernelspec": {
   "display_name": "Python 3",
   "language": "python",
   "name": "python3"
  },
  "language_info": {
   "codemirror_mode": {
    "name": "ipython",
    "version": 3
   },
   "file_extension": ".py",
   "mimetype": "text/x-python",
   "name": "python",
   "nbconvert_exporter": "python",
   "pygments_lexer": "ipython3",
   "version": "3.7.6"
  }
 },
 "nbformat": 4,
 "nbformat_minor": 4
}
