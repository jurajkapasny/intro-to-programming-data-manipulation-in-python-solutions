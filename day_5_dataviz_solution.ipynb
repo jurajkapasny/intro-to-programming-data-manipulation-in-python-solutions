{
 "cells": [
  {
   "cell_type": "code",
   "execution_count": null,
   "metadata": {
    "ExecuteTime": {
     "end_time": "2020-08-06T07:37:44.201452Z",
     "start_time": "2020-08-06T07:37:42.431162Z"
    }
   },
   "outputs": [],
   "source": [
    "# import plotly graph objects\n",
    "import plotly.graph_objs as go\n",
    "\n",
    "# import pandas\n",
    "import pandas as pd"
   ]
  },
  {
   "cell_type": "markdown",
   "metadata": {},
   "source": [
    "### Task 1: Create a scatterplot with a 1000 random data points. \n",
    "\n",
    "- x-axis values should come from a normal distribution using np.random.randn(1000)\n",
    "\n",
    "- y-axis values should come from a uniform distribution over [0,1) using np.random.rand(1000)"
   ]
  },
  {
   "cell_type": "code",
   "execution_count": null,
   "metadata": {
    "ExecuteTime": {
     "end_time": "2020-08-06T07:37:45.458959Z",
     "start_time": "2020-08-06T07:37:44.230277Z"
    }
   },
   "outputs": [],
   "source": [
    "# obtain x and y values:\n",
    "random_x = np.random.randn(1000) # normal distribution\n",
    "random_y = np.random.rand(1000)  # uniform distribution\n",
    "\n",
    "# define a data variable\n",
    "data = [go.Scatter(\n",
    "    x = random_x,\n",
    "    y = random_y,\n",
    "    mode = 'markers',\n",
    ")]\n",
    "\n",
    "# define the layout, and include a title and axis labels\n",
    "layout = go.Layout(\n",
    "    title = 'Random Data Scatterplot', # Graph title\n",
    "    xaxis = dict(title = 'Normal distribution'), # x-axis label\n",
    "    yaxis = dict(title = 'Uniform distribution'), # y-axis label\n",
    "    hovermode ='closest' # handles multiple points landing on the same vertical\n",
    ")\n",
    "\n",
    "# Create a fig from data and layout, and plot the fig\n",
    "fig = go.Figure(data=data, layout=layout)\n",
    "fig.show()"
   ]
  },
  {
   "cell_type": "markdown",
   "metadata": {},
   "source": [
    "-------------\n",
    "### Task 2: Create a stacked bar chart with the data in the link below. \n",
    "\n",
    "**Note** that the questions appear in the index and should be used for the x-axis, while the responses appear as column labels. \n",
    "\n",
    "Stretch Task: Create a horizontal bar chart! Use this documentation [here](https://plot.ly/python/horizontal-bar-charts/) for help."
   ]
  },
  {
   "cell_type": "code",
   "execution_count": null,
   "metadata": {
    "ExecuteTime": {
     "end_time": "2020-08-06T07:37:47.242418Z",
     "start_time": "2020-08-06T07:37:46.820898Z"
    }
   },
   "outputs": [],
   "source": [
    "# load data\n",
    "df = pd.read_csv('https://raw.githubusercontent.com/Pierian-Data/Plotly-Dashboards-with-Dash/master/Data/mocksurvey.csv',index_col=0)"
   ]
  },
  {
   "cell_type": "code",
   "execution_count": null,
   "metadata": {
    "ExecuteTime": {
     "end_time": "2020-08-06T07:37:48.939395Z",
     "start_time": "2020-08-06T07:37:48.725880Z"
    }
   },
   "outputs": [],
   "source": [
    "# create traces using a list comprehension:\n",
    "data = [go.Bar(\n",
    "    y = df.index,     # reverse your x- and y-axis assignments\n",
    "    x = df[response],\n",
    "    orientation='h',  # this line makes it horizontal!\n",
    "    name=response\n",
    ") for response in df.columns]\n",
    "\n",
    "# create a layout, remember to set the barmode here\n",
    "layout = go.Layout(\n",
    "    title='Mock Survey Results',\n",
    "    barmode='stack'\n",
    ")\n",
    "\n",
    "# create a fig from data & layout, and plot the fig.\n",
    "fig = go.Figure(data=data, layout=layout)\n",
    "fig.show()"
   ]
  },
  {
   "cell_type": "markdown",
   "metadata": {},
   "source": [
    "-------------\n",
    "### Task 3: Create a histogram that plots the `length` field from dataset below. Set the range from 0 to 1, with a bin size of 0.02."
   ]
  },
  {
   "cell_type": "code",
   "execution_count": null,
   "metadata": {
    "ExecuteTime": {
     "end_time": "2020-08-06T07:37:52.743546Z",
     "start_time": "2020-08-06T07:37:52.133176Z"
    }
   },
   "outputs": [],
   "source": [
    "# load data\n",
    "df = pd.read_csv('https://raw.githubusercontent.com/Pierian-Data/Plotly-Dashboards-with-Dash/master/Data/abalone.csv')"
   ]
  },
  {
   "cell_type": "code",
   "execution_count": null,
   "metadata": {
    "ExecuteTime": {
     "end_time": "2020-08-06T07:37:53.076136Z",
     "start_time": "2020-08-06T07:37:52.854226Z"
    }
   },
   "outputs": [],
   "source": [
    "# create a data variable:\n",
    "data = [go.Histogram(\n",
    "    x=df['length'],\n",
    "    xbins=dict(start=0,end=1,size=.02),\n",
    ")]\n",
    "\n",
    "# add a layout\n",
    "layout = go.Layout(\n",
    "    title=\"Shell lengths from the Abalone dataset\"\n",
    ")\n",
    "\n",
    "# create a fig from data & layout, and plot the fig\n",
    "fig = go.Figure(data=data, layout=layout)\n",
    "fig.show()"
   ]
  },
  {
   "cell_type": "code",
   "execution_count": null,
   "metadata": {},
   "outputs": [],
   "source": []
  },
  {
   "cell_type": "code",
   "execution_count": null,
   "metadata": {},
   "outputs": [],
   "source": []
  },
  {
   "cell_type": "markdown",
   "metadata": {},
   "source": [
    "## Stretch\n",
    "\n",
    "As mentioned in the Compass, we will be using data from international football (soccer :)) matches that took place between 1872 and 2019 (148 years). You can download the dataset from [**this link**](https://drive.google.com/file/d/1cCn5botBKzh1XZOvrxpcLle-Ua7Fh9BR/view?usp=sharing) and find more information about it on [**Kaggle**](https://www.kaggle.com/martj42/international-football-results-from-1872-to-2017).\n",
    "\n",
    "We need to make sure we understand all variables and information they store before we start working on the task. It's very important to understand the dataset to create meaningful visualizations."
   ]
  },
  {
   "cell_type": "code",
   "execution_count": null,
   "metadata": {
    "ExecuteTime": {
     "end_time": "2020-08-06T08:47:01.058187Z",
     "start_time": "2020-08-06T08:46:57.686204Z"
    }
   },
   "outputs": [],
   "source": [
    "import pandas as pd\n",
    "import matplotlib.pyplot as plt\n",
    "import plotly.graph_objs as go\n",
    "import seaborn as sns\n",
    "from collections import Counter"
   ]
  },
  {
   "cell_type": "code",
   "execution_count": null,
   "metadata": {
    "ExecuteTime": {
     "end_time": "2020-08-06T08:47:01.140976Z",
     "start_time": "2020-08-06T08:47:01.061399Z"
    }
   },
   "outputs": [],
   "source": [
    "df = pd.read_csv('results.csv')"
   ]
  },
  {
   "cell_type": "code",
   "execution_count": null,
   "metadata": {
    "ExecuteTime": {
     "end_time": "2020-08-06T08:47:01.161730Z",
     "start_time": "2020-08-06T08:47:01.143128Z"
    }
   },
   "outputs": [],
   "source": [
    "df.head()"
   ]
  },
  {
   "cell_type": "markdown",
   "metadata": {},
   "source": [
    "## Task\n",
    "Which teams scored the largest number of goals in FIFA World Cup?"
   ]
  },
  {
   "cell_type": "code",
   "execution_count": null,
   "metadata": {
    "ExecuteTime": {
     "end_time": "2020-08-06T08:47:01.178542Z",
     "start_time": "2020-08-06T08:47:01.166974Z"
    }
   },
   "outputs": [],
   "source": [
    "df_world_cup = df[df['tournament'] == 'FIFA World Cup']"
   ]
  },
  {
   "cell_type": "code",
   "execution_count": null,
   "metadata": {
    "ExecuteTime": {
     "end_time": "2020-08-06T08:47:01.206286Z",
     "start_time": "2020-08-06T08:47:01.187151Z"
    }
   },
   "outputs": [],
   "source": [
    "# top 7 teams with largest number of goals\n",
    "df_plot = pd.concat([df_world_cup[['away_team','away_score']].rename(columns = {'away_team': 'team', 'away_score':'score'}),\n",
    "                     df_world_cup[['home_team','home_score']].rename(columns = {'home_team': 'team', 'home_score':'score'})])\\\n",
    "            .groupby('team')[['score']].sum()\\\n",
    "            .sort_values('score',ascending=False)\\\n",
    "            .reset_index()\\\n",
    "            .head(7)\n"
   ]
  },
  {
   "cell_type": "code",
   "execution_count": null,
   "metadata": {
    "ExecuteTime": {
     "end_time": "2020-08-06T08:47:01.559686Z",
     "start_time": "2020-08-06T08:47:01.208711Z"
    }
   },
   "outputs": [],
   "source": [
    "fig,ax = plt.subplots(figsize=(10,10))\n",
    "ax.bar(df_plot['team'], df_plot['score'])\n",
    "ax.set_xlabel('Team')\n",
    "ax.set_ylabel('Scored goals')\n",
    "ax.set_title('World cup goals scored')\n",
    "plt.show()"
   ]
  },
  {
   "cell_type": "code",
   "execution_count": null,
   "metadata": {},
   "outputs": [],
   "source": []
  },
  {
   "cell_type": "markdown",
   "metadata": {},
   "source": [
    "## Task\n",
    "Show the trend in number of matches per year."
   ]
  },
  {
   "cell_type": "code",
   "execution_count": null,
   "metadata": {
    "ExecuteTime": {
     "end_time": "2020-08-06T08:47:01.618043Z",
     "start_time": "2020-08-06T08:47:01.578701Z"
    }
   },
   "outputs": [],
   "source": [
    "df['date'] = pd.to_datetime(df['date'])"
   ]
  },
  {
   "cell_type": "code",
   "execution_count": null,
   "metadata": {
    "ExecuteTime": {
     "end_time": "2020-08-06T08:47:01.651793Z",
     "start_time": "2020-08-06T08:47:01.630038Z"
    }
   },
   "outputs": [],
   "source": [
    "df_plot = df['date'].dt.year.value_counts()\\\n",
    "                    .rename_axis('year')\\\n",
    "                    .to_frame('count_matches')\\\n",
    "                    .reset_index()\\\n",
    "                    .sort_values('year')"
   ]
  },
  {
   "cell_type": "code",
   "execution_count": null,
   "metadata": {
    "ExecuteTime": {
     "end_time": "2020-08-06T08:47:03.367939Z",
     "start_time": "2020-08-06T08:47:01.660765Z"
    }
   },
   "outputs": [],
   "source": [
    "data = [go.Scatter(x=df_plot['year'], y=df_plot['count_matches'])]\n",
    "layout = go.Layout(title = 'Count matches per year', # Graph title\n",
    "                   xaxis = dict(title = 'Year'), # x-axis label\n",
    "                   yaxis = dict(title = 'Matches played')) # y-axis label\n",
    "fig = go.Figure(data = data, layout = layout)\n",
    "fig.show()"
   ]
  },
  {
   "cell_type": "code",
   "execution_count": null,
   "metadata": {},
   "outputs": [],
   "source": []
  },
  {
   "cell_type": "markdown",
   "metadata": {},
   "source": [
    "## Task\n",
    "What is the number of matches played in each tournament throughout history?"
   ]
  },
  {
   "cell_type": "code",
   "execution_count": null,
   "metadata": {
    "ExecuteTime": {
     "end_time": "2020-08-06T08:47:03.385275Z",
     "start_time": "2020-08-06T08:47:03.370776Z"
    }
   },
   "outputs": [],
   "source": [
    "df_plot = df['tournament'].value_counts()\\\n",
    "                          .rename_axis('tournament')\\\n",
    "                          .to_frame('matches')\\\n",
    "                          .reset_index()\\\n",
    "                          .head(10)"
   ]
  },
  {
   "cell_type": "code",
   "execution_count": null,
   "metadata": {
    "ExecuteTime": {
     "end_time": "2020-08-06T08:47:03.832396Z",
     "start_time": "2020-08-06T08:47:03.387833Z"
    }
   },
   "outputs": [],
   "source": [
    "data = [go.Bar(x=df_plot['tournament'], y=df_plot['matches'])]\n",
    "layout = go.Layout(title = 'Tournament matches', # Graph title\n",
    "                   xaxis = dict(title = 'Tournament'), # x-axis label\n",
    "                   yaxis = dict(title = 'Matches played')) # y-axis label\n",
    "fig = go.Figure(data = data, layout = layout)\n",
    "fig.show()"
   ]
  },
  {
   "cell_type": "markdown",
   "metadata": {},
   "source": [
    "## Task\n",
    "Which teams are the most successful ones? (winning percentage)"
   ]
  },
  {
   "cell_type": "code",
   "execution_count": null,
   "metadata": {
    "ExecuteTime": {
     "end_time": "2020-08-06T08:47:03.846589Z",
     "start_time": "2020-08-06T08:47:03.838437Z"
    }
   },
   "outputs": [],
   "source": [
    "def winner_is(row):\n",
    "    if row['home_score'] > row['away_score']:\n",
    "        return row['home_team']\n",
    "    elif row['home_score'] < row['away_score']:\n",
    "        return row['away_team']\n",
    "    else:\n",
    "        return 'draw'"
   ]
  },
  {
   "cell_type": "code",
   "execution_count": null,
   "metadata": {
    "ExecuteTime": {
     "end_time": "2020-08-06T08:47:08.422349Z",
     "start_time": "2020-08-06T08:47:03.854251Z"
    }
   },
   "outputs": [],
   "source": [
    "df['winner'] = df.apply(winner_is, axis=1)\\"
   ]
  },
  {
   "cell_type": "code",
   "execution_count": null,
   "metadata": {
    "ExecuteTime": {
     "end_time": "2020-08-06T08:47:08.525900Z",
     "start_time": "2020-08-06T08:47:08.425143Z"
    }
   },
   "outputs": [],
   "source": [
    "df_count_wins = df['winner'].value_counts()\\\n",
    "                            .rename_axis('team')\\\n",
    "                            .to_frame('wins')\\\n",
    "                            .reset_index()\\\n",
    "                            .query('team != \"draw\"')"
   ]
  },
  {
   "cell_type": "code",
   "execution_count": null,
   "metadata": {
    "ExecuteTime": {
     "end_time": "2020-08-06T08:47:08.612734Z",
     "start_time": "2020-08-06T08:47:08.542459Z"
    }
   },
   "outputs": [],
   "source": [
    "df_matches_played = df['home_team'].value_counts().rename_axis('team').to_frame('matches').add(\n",
    "                    df['away_team'].value_counts().rename_axis('team').to_frame('matches'), fill_value=0)\\\n",
    "                    .reset_index()"
   ]
  },
  {
   "cell_type": "code",
   "execution_count": null,
   "metadata": {
    "ExecuteTime": {
     "end_time": "2020-08-06T08:47:08.657895Z",
     "start_time": "2020-08-06T08:47:08.616316Z"
    }
   },
   "outputs": [],
   "source": [
    "df_plot = df_count_wins.merge(df_matches_played, left_on = 'team', right_on = 'team', how = 'inner')\n",
    "df_plot['pct_wins'] = df_plot['wins'].divide(df_plot['matches']) * 100"
   ]
  },
  {
   "cell_type": "code",
   "execution_count": null,
   "metadata": {
    "ExecuteTime": {
     "end_time": "2020-08-06T08:47:08.701593Z",
     "start_time": "2020-08-06T08:47:08.662221Z"
    }
   },
   "outputs": [],
   "source": [
    "df_plot = df_plot.sort_values('pct_wins',ascending=False)"
   ]
  },
  {
   "cell_type": "code",
   "execution_count": null,
   "metadata": {
    "ExecuteTime": {
     "end_time": "2020-08-06T08:47:08.744520Z",
     "start_time": "2020-08-06T08:47:08.708469Z"
    }
   },
   "outputs": [],
   "source": [
    "df_plot"
   ]
  },
  {
   "cell_type": "code",
   "execution_count": null,
   "metadata": {
    "ExecuteTime": {
     "end_time": "2020-08-06T08:47:09.425247Z",
     "start_time": "2020-08-06T08:47:08.755450Z"
    }
   },
   "outputs": [],
   "source": [
    "plt.figure(figsize=(16, 6))\n",
    "ax = sns.barplot(x=\"team\", y=\"pct_wins\", data=df_plot.head(10))\n",
    "ax.set_xlabel('Team')\n",
    "ax.set_ylabel('Winning percentage')\n",
    "plt.show()\n"
   ]
  },
  {
   "cell_type": "markdown",
   "metadata": {},
   "source": [
    "## Task\n",
    "Which teams are the least successful ones? (winning percentage)"
   ]
  },
  {
   "cell_type": "code",
   "execution_count": null,
   "metadata": {
    "ExecuteTime": {
     "end_time": "2020-08-06T08:47:09.949467Z",
     "start_time": "2020-08-06T08:47:09.442106Z"
    }
   },
   "outputs": [],
   "source": [
    "plt.figure(figsize=(16, 6))\n",
    "ax = sns.barplot(x=\"team\", y=\"pct_wins\", data=df_plot.tail(10))\n",
    "ax.set_xlabel('Team')\n",
    "ax.set_ylabel('Winning percentage')\n",
    "plt.show()"
   ]
  },
  {
   "cell_type": "code",
   "execution_count": null,
   "metadata": {},
   "outputs": [],
   "source": []
  }
 ],
 "metadata": {
  "kernelspec": {
   "display_name": "Python 3",
   "language": "python",
   "name": "python3"
  },
  "language_info": {
   "codemirror_mode": {
    "name": "ipython",
    "version": 3
   },
   "file_extension": ".py",
   "mimetype": "text/x-python",
   "name": "python",
   "nbconvert_exporter": "python",
   "pygments_lexer": "ipython3",
   "version": "3.7.6"
  },
  "toc": {
   "base_numbering": 1,
   "nav_menu": {},
   "number_sections": true,
   "sideBar": true,
   "skip_h1_title": false,
   "title_cell": "Table of Contents",
   "title_sidebar": "Contents",
   "toc_cell": false,
   "toc_position": {},
   "toc_section_display": true,
   "toc_window_display": false
  },
  "varInspector": {
   "cols": {
    "lenName": 16,
    "lenType": 16,
    "lenVar": 40
   },
   "kernels_config": {
    "python": {
     "delete_cmd_postfix": "",
     "delete_cmd_prefix": "del ",
     "library": "var_list.py",
     "varRefreshCmd": "print(var_dic_list())"
    },
    "r": {
     "delete_cmd_postfix": ") ",
     "delete_cmd_prefix": "rm(",
     "library": "var_list.r",
     "varRefreshCmd": "cat(var_dic_list()) "
    }
   },
   "types_to_exclude": [
    "module",
    "function",
    "builtin_function_or_method",
    "instance",
    "_Feature"
   ],
   "window_display": false
  }
 },
 "nbformat": 4,
 "nbformat_minor": 4
}
